{
 "cells": [
  {
   "cell_type": "markdown",
   "metadata": {},
   "source": [
    "# Integer Factorization With Shor's Algorithm\n",
    "\n",
    "This notebook aims to introduce Shor's algorithm and how it can be used to find the prime factor of a given integer $N$. We will first implement the quantum algorithm using Qiskit, then run on a simulator and IBM real quantum device.\n"
   ]
  },
  {
   "cell_type": "markdown",
   "metadata": {},
   "source": [
    "## Contents\n",
    "\n",
    "1. [Introduction](#introduction)\n",
    "\n",
    "2. [Qiskit Implementation](#implementation)\n",
    "   - [Simulation](#simulation)\n",
    "   - [Device](#device)\n",
    "\n",
    "3. [Problems](#problems)\n",
    "\n",
    "4. [References](#references)"
   ]
  },
  {
   "cell_type": "markdown",
   "metadata": {},
   "source": [
    "## 1. Introduction <a id='introduction'></a>\n",
    "### Background\n",
    "\n",
    "We are all aware that one of the advantages of quantum computers over conventional computers is speed, we've seen this in many ways such as Grover's algorithm for searching unstructured data. Here, we will be solving a factorization problem on a quantum computer using Shor's algorithm. For instance, given an integer $N$ as an input, we want to find $1$ $<$ $N_1$, $N_2$ $<$ $N$ such that $N$ $=$ $N_1$$N_2$. The present best and well known classical algorithm called general number field sieve (GNFS)  will solve this kind of problem with an exponential running time of $exp $($ \\sqrt[3] \\frac{64}{9} $+$ $O$ $($ $1$ $)$  ({\\ln{n}})^{1/3} ({{\\ln}\\ln{n}})^{2/3} )$ where $n$ denotes number of bits of $N$. In general, any integers with 1000 or more bits will take the age of the universe to solve on a classical computer. This difficulties of factoring large number on classical hardwares is the basis of security of asymmetric cryptography. \n",
    "\n",
    "\n",
    "The development of a quantum algorithm for factorization called Shor's algorithm demonstrates the capability to speed up the same factorisation problems polynomially with a run time $O$$($$n^3$ $\\log{n}$$)$ compare to the exponential run time on classical computers as stated above. \n",
    "\n",
    "The efficiency of Shor's algorithm is due to the efficiency of the modular exponentiation by repeated squarings, and quantum Fourier transform.\n",
    "\n",
    "### Shor's Algorithm Description\n",
    "The centerpiece of Peter Shor’s algorithm detects a period in a function. This section aims to explain method used in factoring an integer using Shor's algorithm and how quantum computer plays a vital role.\n",
    "#### Reducing factorization to period finding using classical strategy\n",
    "\n",
    "One of the well known ways of dividing a large integer is by modular exponentiation. The operation of modular exponentiation calculates the remainder when an integer b (the base) raised to the eth power (the exponent), $b^e$, is divided by a positive integer m (the modulus). In symbols, given base b, exponent e, and modulus m, the modular exponentiation c is: ${c = b^e mod}$ $m$. From the definition of $c$, it follows that ${0 ≤ c < m}$. where ${c = b^e}$ $mod$ $m$.\n",
    "\n",
    "We've seen how modular exponentiation works, you might be thinking of what is the usefulness of this in factorizing large number and implementing it on quantum computer. Below, I will be showing you how this method will help us in finding an important number that will be useful later on in our quantum factorization journey. \n",
    "\n",
    "Let say we are given an odd integer ${N = N_1N_2}$, where $1$ $<$ $N_1$, $N_2$ $<$ $N$, we want to find $N_1$ and $N_2$.\n",
    "To solve this using modular exponentiation:\n",
    "\n",
    "**Step 1**:  Guess any number $g$ such that $g$ $<$ $N$ and $g$ is not one of the factors of $N$ if possible. \n",
    "\n",
    "**Step 2**: Find an even number $p$ such that there exists $p$ $>$ $0$ and $p$ is the smallest of such number so that $g^p$ $=$ $1$ ($mod$ $N$). Therefore,  ${g^{p/2} \\pm 1}$ is a better guess than $g$. This is where modular exponentiation came in. An example on how to do this is explained below.\n",
    "\n",
    "**Step 3**: If we can find such $p$ and $p$ is even, then, $N$ divides $g^p$ $-$ $1$. Note: $g^p$ $-$ $1$ $=$ ($g^{p/2}$ $-$ $1$)($g^{p/2}$ $+$ $1$). Hence, one can factor $N$\n",
    "\n",
    "To find $p$, we can consider modular exponentiation sequence $A$ $=$ $a_1$, $a_2$,..., where $a_i$ = $g^i$ ($mod$ $N$). Each $a_i$ is a number from the finite set {$0$, $1$, $2$, ..., $N-1$}, and hence there exists indices $q$ and $r$ such that $a_q = a_r$. We will be taking a look at an example below to find period $p$.\n",
    "\n",
    "For $N$ $=$ $15$, find $N_1$, $N_2$ such that $N$ $=$ $N_1$$N_2$. To solve this, let's follow the steps listed above:\n",
    "\n",
    "We will be using two different number for $g$ to show that this works for any $g$ you choose so far $g$ $<$ $N$ and $g$ is not a factor of $N$.\n",
    "\n",
    "\n",
    "##### Example 1:\n",
    "\n",
    "Step 1:\n",
    "Let $g$ $=$ $7$  \n",
    "\n",
    "Step 2:\n",
    "$a_i$ $=$ $g^i$ ($mod 15$). We will only choose $i$ to be finite set {$0$, $1$, $2$, ..., $N-1$}\n",
    "\n",
    "-  $a_0$ $=$ $7^0$ ($mod$ $15$) $=$ $1$ $mod$ $15$ $=$ $1$ $mod$ $15$\n",
    "\n",
    "-  $a_1$ $=$ $7^1$ ($mod$ $15$) $=$ $7$ $mod$ $15$ $=$ $7$ $mod$ $15$\n",
    "\n",
    "-  $a_2$ $=$ $7^2$ ($mod$ $15$) $=$ $49$ $mod$ $15$ $=$ $4$ $mod$ $15$\n",
    "\n",
    "-  $a_3$ $=$ $7^3$ ($mod$ $15$) $=$ $343$ $mod$ $15$ $=$ $13$ $mod$ $15$\n",
    "\n",
    "-  $a_4$ $=$ $7^4$ ($mod$ $15$) $=$ $(4)^2$ $mod$ $15$ $=$ $1$ $mod$ $15$\n",
    "\n",
    "-  $a_5$ $=$ $7^5$ ($mod$ $15$) $=$ $16807$ $mod$ $15$ $=$ $7$ $mod$ $15$\n",
    "\n",
    "-  $a_6$ $=$ $7^6 = (7^3)^2$ ($mod$ $15$) $=$ $13^2$ $mod$ $15$ $=$ $4$ $mod$ $15$\n",
    "\n",
    "We can see a modular exponentiation sequence of ${1,7,4,13,1,7,4, ...}$. We can clearly see that the period, ${p = 4}$\n",
    "\n",
    "\n",
    "Since we can find $p$, and is even number, we can go on to step 3.\n",
    "\n",
    "Step 3:\n",
    "We can apply the above idea to find:\n",
    "\n",
    "- $7^4$ ($mod$ $15$) $=$ $1$\n",
    "\n",
    "- $7^4 - 1$ ($mod$ $15$) $=$ $0$\n",
    "\n",
    "- $(7^2 - 1)(7^2 + 1)$ ($mod$ $15$) $=$ $0$ ($mod$ $15$) \n",
    "\n",
    "- $15$ divides $(48)(50)$\n",
    "\n",
    "We can then compute the factors of $15$ as $gcd(48, 15)$ $=$ $3$ and $gcd(50, 15)$ $=$ $5$\n",
    "\n",
    "\n",
    "##### Example 2:\n",
    "\n",
    "\n",
    "Let's try step 2 again, but now we will be using another number for $g$. Let's take $g$ $=$ $11$, since $11$ satisfies the conditions in step 2. This is to show that you can make any crappy guess and still make it a better guess.  \n",
    "\n",
    "-  $a_0$ $=$ $11^0$ ($mod$ $15$) $=$ $1$ $mod$ $15$ $=$ $1$ $mod$ $15$\n",
    "\n",
    "-  $a_1$ $=$ $11^1$ ($mod$ $15$) $=$ $11$ $mod$ $15$ $=$ $11$ $mod$ $15$\n",
    "\n",
    "-  $a_2$ $=$ $11^2$ ($mod$ $15$) $=$ $121$ $mod$ $15$ $=$ $1$ $mod$ $15$\n",
    "\n",
    "-  $a_3$ $=$ $11^3$ ($mod$ $15$) $=$ $1331$ $mod$ $15$ $=$ $11$ $mod$ $15$\n",
    "\n",
    "-  $a_4$ $=$ $11^4$ ($mod$ $15$) $=$ $(1)^2$ $mod$ $15$ $=$ $1$ $mod$ $15$\n",
    "\n",
    "We can see a modular exponentiation sequence of ${1,11,1,11,1, ...}$. We can clearly see that the period, ${p = 2}$\n",
    "\n",
    "\n",
    "Since we can find $p$, and is even number, we can go on to step 3.\n",
    "\n",
    "Step 3:\n",
    "We can apply the above idea to find:\n",
    "\n",
    "- $11^2$ ($mod$ $15$) $=$ $1$\n",
    "\n",
    "- $11^2 - 1$ ($mod$ $15$) $=$ $0$\n",
    "\n",
    "- $(11 - 1)(11 + 1)$ ($mod$ $15$) $=$ $0$ ($mod$ $15$) \n",
    "\n",
    "- $15$ divides $(10)(12)$\n",
    "\n",
    "We can then compute the factors of $15$ as $gcd(10, 15)$ $=$ $5$ and $gcd(12, 15)$ $=$ $3$\n",
    "\n",
    "There is still a chance the value of $p$ may be unsuitable—that is, that the\n",
    "original $g$ was an unlucky choice. In this case, we must begin again in step 1 with another guess value of $g$. But otherwise the value of $p$ provides the only needed input to a final classical stage that yields a verifiable solution to the problem about $N$\n",
    "\n",
    "\n",
    "Finding $p$ is, however, difficult classically than directly searching for factors of $N$, since one may need to check as many as $\\sqrt{N}$ different values of $i$ before encountering any sequential pattern, that gives us $1$ $mod$ $N$. For the case where $N$ is large $N$ $=$ $3^{2006787}$, it is almost impossible to find $p$ classically such that $g^p$ $=$ $1$ ($mod$ $N$). However, with quantum computing, $p$ can be found in polynomial time using the Quantum Fourier Transform $(QFT)$. In the next section, we will be going through the explanation about the quantum strategy of finding period $p$.\n",
    "\n",
    "\n",
    "\n",
    "\n",
    "#### Reducing factorization to period finding using Quantum strategy\n",
    "#####  Quantum Fourier Transform\n",
    "\n",
    "\n",
    "The quantum Fourier transform $(QFT)$ is the classical discrete Fourier transform applied to the vector of amplitudes of a quantum state, where we usually consider vectors of length $N$ $=$ $2^n$ where $n$ is the number of qubits. To simply things, we can say $(QFT)$ is a linear transformation on quantum bits, and is the quantum analogue of the inverse discrete Fourier transform. We can use Hadamard gates and controlled phase shift gates to implement its circuit.\n",
    "\n",
    "The classical discrete Fourier transform acts on vector ($a_0$, $a_1$, $a_2$, ..., $a_{N-1}$) and maps it to the vector ($b_0$, $b_1$, $b_2$, ..., $b_{N-1}$).\n",
    "\n",
    "Similarly, quantum Fourier transform acts on a quantum state $QFT$ $|x>$ $=$  $QFT$ ${(\\sum \\limits _{i=0} ^{N-1} {x_i|i>})}$ and maps it to the quantum state $ \\sum \\limits _{i=0} ^{N-1} {y_i|i>}  $ according to the formula \n",
    "\n",
    "${y_k =  \\sum \\limits _{i=0} ^{N-1} {x_n w_{N-1}^{kn}}}$, ${k = 0,1,2,3, ..., N-1}$ where ${w_N = e^{2n/N}}$\n",
    "\n",
    "\n"
   ]
  },
  {
   "cell_type": "markdown",
   "metadata": {},
   "source": [
    "The property of QFT that is essential for the factorization algorithm is that it can “compute” the $p$ for a given input.\n",
    "\n",
    "To implement a period finding circuit for solving the integer factorization problem. We will be following series of steps:\n",
    "\n",
    "**Step 1**: We will implement two registers, reigster $A$ (input register) with $n$ qubits and $B$ (output register) with $m$ qubits, where ${m=2n}$ and ${M =2^m}$. \n",
    "\n",
    "**Step 2**: The second step is the most detailed one in the algorithm and requires a quantum\n",
    "network of gates. Specifically it computes the function ${ f(x) = A_x mod N }$, stores it in the output register. The initial state of the computer now is:\n",
    "\n",
    "${ |\\psi_1> = 2^{-(m+n)/2}|0>_0|0>_1...|0>_{n-1}|0>_0|0>_1|0>_{m-1}}$ indicating that both the input and output registers have been set to $0$. When each qubit in the input register is rotated by $ {\\pi/4}$, we will have the form:\n",
    "\n",
    "${ I = {1/ \\sqrt M}(|0>+|1>)_0(|0>+|1>)_1...(|0>+|1>)_{n-1}}$, where ${M = 2^n}. This can be written as:\n",
    "\n",
    "$ {I = {1/ \\sqrt M} \\sum \\limits _{j=0} ^{M-1} {|j>} } $ and the state of the computer as:\n",
    "\n",
    "\n",
    "$ {|\\psi_2> = {1/ \\sqrt M} \\sum \\limits _{j=0} ^{M-1} {|j>|0>} } $\n",
    "\n",
    "**Step 3**: Next, function ${ f(x) = A_x mod N }$ is evaluated and the result stored in the output register. The state of the computer now is:\n",
    "\n",
    "$ {|\\psi_3> = {1/ \\sqrt M} \\sum \\limits _{j=0} ^{M-1} {|j>|A^j mod N>} } $. This can be written as:\n",
    "\n",
    "\n",
    "$ {|\\psi_3> = {1/ \\sqrt M} \\sum \\limits _{l=0} ^{r-1} \\sum \\limits _{q=0} ^{s_l} {|qr+l>|A^j mod N>} } $. Where $r$ is the periodicity we are looking for.\n",
    "\n",
    "**Step 4**:  Finally, a quantum Fourier transform is applied to the input register. The state of the computer is now:\n",
    "\n",
    "$ {|\\psi_4> = {1/ \\sqrt M} \\sum \\limits _{l=0} ^{r-1} \\sum \\limits _{q=0} ^{s_l} {1/ \\sqrt n} \\sum \\limits _{p=0} ^{M-1} e^{2{\\pi}ip(qr+l)/n}{|p>|A^l mod N>} } $\n",
    "\n",
    "When this step is completed the calculation is done and all that remains to do is to\n",
    "extract relevant information from the machine to determine if possible $r$, the order of ${A_l mod N}$, and if it is possible, to obtain factors of $N$ from this information and, if not,\n",
    "repeat a similar calculation in order to obtain more information.\n",
    "\n",
    "**Example:** In order to see how the results of the computation are obtained via measurement it\n",
    "is useful to consider the much discussed simplest example of factoring ${3x5 = 15.}$\n",
    "\n",
    "**Step 1&2:** We will be representing the input and output registers by 4 qubits each; i.e ${n = m = 4}$. The state of the input register just before evaluating function ${ f(x) = A_x mod N }$ will be given by $ {I = {1/ \\sqrt M} \\sum \\limits _{j=0} ^{M-1} {|j>} } $. \n",
    "\n",
    "**Step 3:** Evaluating function ${ f(x) = A_x mod N }$ using ${A = 7}$, Writing ths state of the computer we have:\n",
    "\n",
    "$ {|\\psi_3> 1/4((|0> + |4> + |8> +|12>)|1>) \n",
    "              + (|1> + |5> + |9> +|13>)|7>)\n",
    "              + (|2> + |6> + |10> +|14>)|4>)\n",
    "              + (|3> + |7> + |11> +|15>)|13>)}$\n",
    "              \n",
    "**Step 4:** Performing Fourier Transform we have:\n",
    "\n",
    "$ {|\\psi_4> 1/4((|0> + |4> + |8> +|12>)|1>) \n",
    "              + (|0> + i|4> -|8> -i|12>)|7>)\n",
    "              + (|0> - |4> + |8 -|12>)|4>)\n",
    "              + (|0> -i|4> - |8> +i|12>)|13>)}$\n",
    "              \n",
    "\n",
    "One reason for writing this out is to call attention to the fact that performing the\n",
    "Fourier transform actually enhances the probability of measuring a particular value in the\n",
    "input register. If we measure after the transform we can only obtain the values ${0,4, 8 and\n",
    "12 }$, each with probabilities $¼$. If we measured before the transform we could obtain any\n",
    "value from 0 to 15 with probability $1/16$ for each value. \n",
    "\n",
    "In the above example ,\n",
    "measurement of the output register would yield either 1,7,4 or 13 each with a probability\n",
    "of ¼. \n",
    "\n",
    "It's time for implementation."
   ]
  },
  {
   "cell_type": "markdown",
   "metadata": {},
   "source": [
    "## 2. Qiskit Implementation <a id='implementation'></a>\n"
   ]
  },
  {
   "cell_type": "code",
   "execution_count": null,
   "metadata": {},
   "outputs": [],
   "source": [
    "\n",
    "import math\n",
    "\n",
    "# importing Qiskit\n",
    "from qiskit import *\n",
    "\n",
    "from qiskit.providers.ibmq import least_busy\n",
    "from qiskit.tools.monitor import job_monitor\n",
    "from qiskit.tools.visualization import plot_histogram"
   ]
  },
  {
   "cell_type": "code",
   "execution_count": 15,
   "metadata": {},
   "outputs": [
    {
     "data": {
      "image/png": "[encoded data removed]",
      "text/plain": [
       "<Figure size 1119.72x385.28 with 1 Axes>"
      ]
     },
     "execution_count": 15,
     "metadata": {},
     "output_type": "execute_result"
    }
   ],
   "source": [
    "n =5\n",
    "qreg = QuantumRegister(n, 'x')\n",
    "creg = ClassicalRegister(n, 'c')\n",
    "circ = QuantumCircuit(qreg, creg)\n",
    "for i in range(n-2):\n",
    "    circ.h(i)\n",
    "circ.barrier()\n",
    "\n",
    "circ.cx(qreg[2], qreg[3])\n",
    "circ.cx(qreg[2], qreg[4])\n",
    "circ.barrier()\n",
    "\n",
    "circ.h(qreg[1])\n",
    "circ.cu1(math.pi/ 2, qreg[1], qreg[0])\n",
    "circ.h(qreg[0])\n",
    "circ.barrier()\n",
    "\n",
    "circ.cu1(math.pi/ 4, qreg[1], qreg[2])\n",
    "circ.cu1(math.pi/ 2, qreg[0], qreg[2])\n",
    "circ.h(qreg[2])\n",
    "circ.barrier()\n",
    "for i in range(n-2):\n",
    "    circ.measure(qreg[i], creg[i])\n",
    "circ.draw(output='mpl')\n"
   ]
  },
  {
   "cell_type": "markdown",
   "metadata": {},
   "source": [
    "## Running on a simulator <a id='simulator'></a>"
   ]
  },
  {
   "cell_type": "code",
   "execution_count": 16,
   "metadata": {},
   "outputs": [
    {
     "data": {
      "image/png": "[encoded data removed]",
      "text/plain": [
       "<Figure size 504x360 with 1 Axes>"
      ]
     },
     "execution_count": 16,
     "metadata": {},
     "output_type": "execute_result"
    }
   ],
   "source": [
    "backend = BasicAer.get_backend('qasm_simulator')\n",
    "shots = 1024\n",
    "results = execute(circ, backend=backend, shots=shots).result()\n",
    "answer = results.get_counts()\n",
    "plot_histogram(answer)"
   ]
  },
  {
   "cell_type": "markdown",
   "metadata": {},
   "source": [
    "## Running Shor's algorithm on real quantum hardware <a id='device'></a>"
   ]
  },
  {
   "cell_type": "code",
   "execution_count": 19,
   "metadata": {},
   "outputs": [
    {
     "name": "stderr",
     "output_type": "stream",
     "text": [
      "C:\\Users\\esobi\\Anaconda3\\lib\\site-packages\\qiskit\\providers\\ibmq\\credentials\\configrc.py:130: UserWarning: Credentials already present. Set overwrite=True to overwrite.\n",
      "  warnings.warn('Credentials already present. '\n",
      "C:\\Users\\esobi\\Anaconda3\\lib\\site-packages\\qiskit\\providers\\ibmq\\ibmqfactory.py:181: UserWarning: Credentials are already in use. The existing account in the session will be replaced.\n",
      "  warnings.warn('Credentials are already in use. The existing '\n"
     ]
    }
   ],
   "source": [
    "from qiskit import IBMQ\n",
    "from qiskit.providers.ibmq import least_busy\n",
    "IBMQ.save_account('')\n",
    "# Load local account information\n",
    "IBMQ.load_account()\n",
    "\n",
    "provider = IBMQ.get_provider('ibm-q')\n",
    "quantumcomputer = provider.get_backend('ibmqx2')\n",
    "job = execute(circ, backend=quantumcomputer)"
   ]
  },
  {
   "cell_type": "code",
   "execution_count": 18,
   "metadata": {},
   "outputs": [
    {
     "data": {
      "image/png": "[encoded data removed]",
      "text/plain": [
       "<Figure size 504x360 with 1 Axes>"
      ]
     },
     "execution_count": 18,
     "metadata": {},
     "output_type": "execute_result"
    }
   ],
   "source": [
    "result = job.result()\n",
    "plot_histogram(result.get_counts(circ))"
   ]
  },
  {
   "cell_type": "markdown",
   "metadata": {},
   "source": [
    "The periods found by the simulator and real quantum device are $r = 0$, which is ignored, and $r = 4$, which is what we will be using.\n",
    "Since $M = 8$, we can conclude ${p = M/r = 8/4 = 2}$. Then $15$ divides ${(x^p - 1) = (11^2 - 1) = (11-1)(11+1) = 10*12}$. By computing ${gcd(15,10) = 5}$ and ${gcd(15,12) = 3}$, we find the factors of $15$. \n",
    "\n",
    "\n",
    "The general-case circuit for Shor’s algorithm for factorization of the number 15 is too large, both with respect to the number of qubits as well as the number of gates, to be implemented on a 5-qubit processor. We were able to implement a compiled optimized version that produced correct results.\n",
    "\n",
    "As we see that there are a few results from the other three states when run in a real quantum computer. These arise due to errors in the gates that were applied."
   ]
  },
  {
   "cell_type": "markdown",
   "metadata": {},
   "source": [
    "## 3. Problems <a id='problems'></a>\n",
    "\n",
    "1. The above implementation of Shor's algorithm was tested by using ${N = 15}$ and ${x = 11}$. Implement the same $N$ using ${x = 7}$\n",
    "2. The above implementation of Shor's algorithm was tested by using ${N = 15}$ and ${x = 11}$. Implement the same ${N = 21}$ using any guess number, $x$."
   ]
  },
  {
   "cell_type": "markdown",
   "metadata": {},
   "source": [
    "## 4. References <a id='references'></a>\n",
    "1. L. M. K. Vandersypen, M. Steffen, G. Breyta, C. S. Yannoni, M. H. Sherwood, and I. L. Chuang. Experimental realization\n",
    "of Shor’s quantum factoring algorithm using nuclear magnetic resonance. Nature (London) , 414:883–887, December 2001.\n",
    "2. M. Nielsen and I. Chuang, Quantum Computation and Quantum Information, Cambridge Series on Information and the Natural Sciences (Cambridge University Press, Cambridge, 2000)."
   ]
  }
 ],
 "metadata": {
  "kernelspec": {
   "display_name": "Python 3",
   "language": "python",
   "name": "python3"
  },
  "language_info": {
   "codemirror_mode": {
    "name": "ipython",
    "version": 3
   },
   "file_extension": ".py",
   "mimetype": "text/x-python",
   "name": "python",
   "nbconvert_exporter": "python",
   "pygments_lexer": "ipython3",
   "version": "3.7.3"
  }
 },
 "nbformat": 4,
 "nbformat_minor": 2
}
