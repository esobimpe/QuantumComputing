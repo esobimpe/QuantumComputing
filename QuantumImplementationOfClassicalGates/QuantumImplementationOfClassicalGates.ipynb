{
 "cells": [
  {
   "cell_type": "code",
   "execution_count": 20,
   "metadata": {},
   "outputs": [],
   "source": [
    "import numpy as np\n",
    "from qiskit import *\n",
    "%matplotlib inline\n",
    "import matplotlib.pyplot as plt\n"
   ]
  },
  {
   "cell_type": "code",
   "execution_count": 2,
   "metadata": {},
   "outputs": [
    {
     "data": {
      "text/plain": [
       "'0'"
      ]
     },
     "execution_count": 2,
     "metadata": {},
     "output_type": "execute_result"
    }
   ],
   "source": [
    "from qiskit import *\n",
    "\n",
    "def NOT(input):\n",
    "\n",
    "    q = QuantumRegister(1) # a qubit in which to encode and manipulate the input\n",
    "    c = ClassicalRegister(1) # a bit to store the output\n",
    "    qc = QuantumCircuit(q, c) # this is where the quantum program goes\n",
    "    \n",
    "    # We encode '0' as the qubit state |0⟩, and '1' as |1⟩\n",
    "    # Since the qubit is initially |0⟩, we don't need to do anything for an input of '0'\n",
    "    # For an input of '1', we do an x to rotate the |0⟩ to |1⟩\n",
    "    if input=='1':\n",
    "        qc.x( q[0] )\n",
    "        \n",
    "    # Now we've encoded the input, we can do a NOT on it using x\n",
    "    qc.x( q[0] )\n",
    "    \n",
    "    # Finally, we extract the |0⟩/|1⟩ output of the qubit and encode it in the bit c[0]\n",
    "    qc.measure( q[0], c[0] )\n",
    "    \n",
    "    # We'll run the program on a simulator\n",
    "    backend = Aer.get_backend('qasm_simulator')\n",
    "    # Since the output will be deterministic, we can use just a single shot to get it\n",
    "    job = execute(qc,backend,shots=1)\n",
    "    output = next(iter(job.result().get_counts()))\n",
    "    \n",
    "    return output\n",
    "NOT(\"1\")"
   ]
  },
  {
   "cell_type": "code",
   "execution_count": 37,
   "metadata": {},
   "outputs": [
    {
     "data": {
      "text/plain": [
       "'1'"
      ]
     },
     "execution_count": 37,
     "metadata": {},
     "output_type": "execute_result"
    }
   ],
   "source": [
    "def XOR(input1,input2):\n",
    "    \n",
    "    q = QuantumRegister(3) # three qubits in which to encode and manipulate the input\n",
    "    c = ClassicalRegister(1) # a bit to store the output\n",
    "    qc = QuantumCircuit(q, c) # this is where the quantum program goes\n",
    "    if input1 == \"1\":\n",
    "        qc.x(q[0])\n",
    "    if input2 == \"1\":\n",
    "        qc.x(q[1])\n",
    "    \n",
    "    qc.cx(q[0], q[2])\n",
    "    qc.cx(q[1], q[2])\n",
    "    \n",
    "    qc.measure(q[2], c[0])\n",
    "    \n",
    "    backend = Aer.get_backend('qasm_simulator')\n",
    "    job = execute(qc, backend, shots = 1)\n",
    "    output = next(iter(job.result().get_counts()))\n",
    "\n",
    "    return output\n",
    "\n",
    "XOR(\"0\", \"1\")"
   ]
  },
  {
   "cell_type": "code",
   "execution_count": 19,
   "metadata": {},
   "outputs": [
    {
     "data": {
      "text/plain": [
       "11"
      ]
     },
     "execution_count": 19,
     "metadata": {},
     "output_type": "execute_result"
    }
   ],
   "source": [
    "def convertToBinary(input1):\n",
    "    output = int(bin(input1)[2:])\n",
    "    return output\n",
    "convertToBinary(3)"
   ]
  },
  {
   "cell_type": "code",
   "execution_count": 61,
   "metadata": {},
   "outputs": [
    {
     "data": {
      "text/plain": [
       "'1'"
      ]
     },
     "execution_count": 61,
     "metadata": {},
     "output_type": "execute_result"
    }
   ],
   "source": [
    "def AND(input1, input2):\n",
    "    q = QuantumRegister(3)\n",
    "    c = ClassicalRegister(1)\n",
    "    circuit = QuantumCircuit(q,c)\n",
    "    if input1 == \"1\":\n",
    "        circuit.x(q[0])\n",
    "    if input2 == \"1\":\n",
    "        circuit.x(q[1])\n",
    "    circuit.ccx(q[0],q[1],q[2])\n",
    "    \n",
    "\n",
    "    circuit.measure(q[2], c[0])\n",
    "    \n",
    "    backend = Aer.get_backend(\"qasm_simulator\")\n",
    "    job = execute(circuit, backend, shots=1)\n",
    "    result = next(iter(job.result().get_counts()))\n",
    "    \n",
    "    \n",
    "    return result\n",
    "\n",
    "\n",
    "    \n",
    "\n",
    "AND(\"1\",\"1\")"
   ]
  },
  {
   "cell_type": "code",
   "execution_count": 84,
   "metadata": {},
   "outputs": [
    {
     "data": {
      "text/plain": [
       "'0'"
      ]
     },
     "execution_count": 84,
     "metadata": {},
     "output_type": "execute_result"
    }
   ],
   "source": [
    "def NAND(input1, input2):\n",
    "    \n",
    "    q = QuantumRegister(3)\n",
    "    c = ClassicalRegister(1)\n",
    "    circuit = QuantumCircuit(q,c)\n",
    "    \n",
    "    \n",
    "    if input1 == \"1\":\n",
    "        circuit.x(q[0])\n",
    "    if input2 == \"1\":\n",
    "        circuit.x(q[1])\n",
    "\n",
    "    circuit.x(q[2])\n",
    "    circuit.ccx(q[0],q[1],q[2])\n",
    "    \n",
    "\n",
    "    circuit.measure(q[2], c[0])\n",
    "    \n",
    "    backend = Aer.get_backend(\"qasm_simulator\")\n",
    "    job = execute(circuit, backend, shots=1)\n",
    "    result = next(iter(job.result().get_counts()))\n",
    "    \n",
    "    \n",
    "    return result\n",
    "NAND(\"1\",\"1\")   "
   ]
  },
  {
   "cell_type": "markdown",
   "metadata": {},
   "source": [
    "def OR"
   ]
  },
  {
   "cell_type": "code",
   "execution_count": 91,
   "metadata": {},
   "outputs": [
    {
     "data": {
      "text/plain": [
       "'0'"
      ]
     },
     "execution_count": 91,
     "metadata": {},
     "output_type": "execute_result"
    }
   ],
   "source": [
    "def OR(input1, input2):\n",
    "    q = QuantumRegister(3)\n",
    "    c = ClassicalRegister(1)\n",
    "    circuit = QuantumCircuit(q,c)\n",
    "    \n",
    "    \n",
    "    if input1 == \"1\":\n",
    "        circuit.x(q[0])\n",
    "    if input2 == \"1\":\n",
    "        circuit.x(q[1])\n",
    "        \n",
    "    circuit.x(q[2])\n",
    "    circuit.cx(q[2], q[0])\n",
    "    circuit.cx(q[2], q[1])\n",
    "    circuit.ccx(q[0],q[1],q[2])\n",
    "    \n",
    "    circuit.measure(q[2], c[0])\n",
    "    \n",
    "    backend = Aer.get_backend(\"qasm_simulator\")\n",
    "    job = execute(circuit, backend, shots=1)\n",
    "    result = next(iter(job.result().get_counts()))\n",
    "    return result\n",
    "\n",
    "OR(\"0\", \"0\")\n",
    "    \n",
    "    \n",
    "       "
   ]
  },
  {
   "cell_type": "code",
   "execution_count": null,
   "metadata": {},
   "outputs": [],
   "source": []
  }
 ],
 "metadata": {
  "kernelspec": {
   "display_name": "Python 3",
   "language": "python",
   "name": "python3"
  },
  "language_info": {
   "codemirror_mode": {
    "name": "ipython",
    "version": 3
   },
   "file_extension": ".py",
   "mimetype": "text/x-python",
   "name": "python",
   "nbconvert_exporter": "python",
   "pygments_lexer": "ipython3",
   "version": "3.7.3"
  }
 },
 "nbformat": 4,
 "nbformat_minor": 2
}
