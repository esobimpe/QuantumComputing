{
  "nbformat": 4,
  "nbformat_minor": 0,
  "metadata": {
    "colab": {
      "name": "cointoss.ipynb",
      "version": "0.3.2",
      "provenance": []
    },
    "kernelspec": {
      "name": "python3",
      "display_name": "Python 3"
    }
  },
  "cells": [
    {
      "cell_type": "code",
      "metadata": {
        "id": "gm6bK1J0SnP5",
        "colab_type": "code",
        "colab": {}
      },
      "source": [
        "pip install qiskit\n"
      ],
      "execution_count": 0,
      "outputs": []
    },
    {
      "cell_type": "code",
      "metadata": {
        "id": "YkMEMz7dTZhG",
        "colab_type": "code",
        "colab": {
          "base_uri": "https://localhost:8080/",
          "height": 51
        },
        "outputId": "6706dcc8-99a3-4299-da63-47b73c6f9883"
      },
      "source": [
        "# -*- coding: utf-8 -*-\n",
        "## MODULES\n",
        "from qiskit import QuantumCircuit, QuantumRegister, ClassicalRegister, execute\n",
        "from qiskit import BasicAer\n",
        "\n",
        "\n",
        "## FUNCTIONS\n",
        "def flip():\n",
        "    # initialize a quantum register with a single bit\n",
        "    q = QuantumRegister(1)\n",
        "\n",
        "    # initialize a classical register with a single bit\n",
        "    c = ClassicalRegister(1)\n",
        "    \n",
        "    # initialize a circuit acting on the single quantum bit\n",
        "    circuit = QuantumCircuit(q, c)\n",
        "\n",
        "    # randomize the bit using a Hadamard gate\n",
        "    circuit.h(q[0])\n",
        "\n",
        "    # measure the bit\n",
        "    circuit.measure(q, c)\n",
        "\n",
        "    # submit job to qasm simulator\n",
        "    job = execute(circuit, BasicAer.get_backend('qasm_simulator'), shots=1)\n",
        "\n",
        "    # determine output\n",
        "    counts = job.result().get_counts()\n",
        "\n",
        "    if track:\n",
        "        print(counts)\n",
        "\n",
        "    try:\n",
        "        out = 0\n",
        "        counts['0']\n",
        "    except:\n",
        "        out = 1\n",
        "\n",
        "    return out\n",
        " \n",
        "\n",
        "## MAIN\n",
        "track = False\n",
        "count_0 = 0\n",
        "count_1 = 0\n",
        "for i in range(0,100):\n",
        "    bit = flip()\n",
        "    if bit == 0:\n",
        "        count_0 += 1\n",
        "    else:\n",
        "        count_1 += 1\n",
        "\n",
        "print(\"0: \" + str(count_0))\n",
        "print(\"1: \" + str(count_1))"
      ],
      "execution_count": 4,
      "outputs": [
        {
          "output_type": "stream",
          "text": [
            "0: 44\n",
            "1: 56\n"
          ],
          "name": "stdout"
        }
      ]
    }
  ]
}