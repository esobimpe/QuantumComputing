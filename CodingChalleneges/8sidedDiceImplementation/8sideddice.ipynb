{
  "nbformat": 4,
  "nbformat_minor": 0,
  "metadata": {
    "colab": {
      "name": "8sideddice.ipynb",
      "version": "0.3.2",
      "provenance": [],
      "collapsed_sections": []
    },
    "kernelspec": {
      "name": "python3",
      "display_name": "Python 3"
    }
  },
  "cells": [
    {
      "cell_type": "code",
      "metadata": {
        "id": "0bUPR6crRzHp",
        "colab_type": "code",
        "colab": {}
      },
      "source": [
        "!pip install qiskit"
      ],
      "execution_count": 0,
      "outputs": []
    },
    {
      "cell_type": "code",
      "metadata": {
        "id": "RyXv0nGGYGTT",
        "colab_type": "code",
        "colab": {}
      },
      "source": [
        "#Import libraries\n",
        "import numpy as np\n",
        "import math\n",
        "from qiskit import QuantumCircuit, ClassicalRegister, QuantumRegister\n",
        "from qiskit import execute\n",
        "from qiskit import BasicAer\n",
        "import pdb\n",
        "\n",
        "#Needed backends\n",
        "s_backend = BasicAer.get_backend('statevector_simulator')\n",
        "q_backend = BasicAer.get_backend('qasm_simulator')"
      ],
      "execution_count": 0,
      "outputs": []
    },
    {
      "cell_type": "code",
      "metadata": {
        "id": "9GTjrNFBYkPn",
        "colab_type": "code",
        "outputId": "2b2f8d17-d248-4099-c4ca-30f0a753cbf7",
        "colab": {
          "base_uri": "https://localhost:8080/",
          "height": 34
        }
      },
      "source": [
        "def single8SidedDice():\n",
        "    N = 3\n",
        "    q = QuantumRegister(N)\n",
        "    c = ClassicalRegister(N)\n",
        "    circ = QuantumCircuit(q)\n",
        "    circ.h(q)\n",
        "    meas = QuantumCircuit(q,c)\n",
        "    meas.measure(q,c)\n",
        "    circ = circ+meas\n",
        "    job = execute(circ,q_backend,shots = 1)\n",
        "    result = job.result()\n",
        "    outputstate = result.get_counts(circ).keys()\n",
        "    roll = 1\n",
        "    for i in outputstate:\n",
        "        for j in range(len(i)):\n",
        "            roll += (2**(len(i)-1-j))*int(i[j])\n",
        "    print(outputstate, roll)\n",
        "    \n",
        "single8SidedDice()"
      ],
      "execution_count": 5,
      "outputs": [
        {
          "output_type": "stream",
          "text": [
            "dict_keys(['010']) 3\n"
          ],
          "name": "stdout"
        }
      ]
    }
  ]
}